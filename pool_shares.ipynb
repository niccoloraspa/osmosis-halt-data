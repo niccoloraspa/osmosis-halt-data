{
 "cells": [
  {
   "cell_type": "code",
   "execution_count": 6,
   "metadata": {},
   "outputs": [],
   "source": [
    "import requests\n",
    "import os\n",
    "import json\n",
    "import pandas as pd\n",
    "\n",
    "API_ENDPOINT=\"https://api.osmosis.interbloc.org/osmosis/gamm/v1beta1/pools/1\"\n",
    "\n",
    "UPGRADE_HEIGHT=4707300\n",
    "HALT_HEIGHT=4713064"
   ]
  },
  {
   "cell_type": "markdown",
   "metadata": {},
   "source": [
    "## Download all the data "
   ]
  },
  {
   "cell_type": "markdown",
   "metadata": {},
   "source": [
    "```\n",
    "curl \\\n",
    "    -X GET \\\n",
    "    -H \"Content-Type: application/json\" \\\n",
    "    -H \"x-cosmos-block-height: 4707300\" \\\n",
    "    \"https://api.osmosis.interbloc.org/osmosis/gamm/v1beta1/pools/1\"\n",
    "```"
   ]
  },
  {
   "cell_type": "code",
   "execution_count": 7,
   "metadata": {},
   "outputs": [],
   "source": [
    "POOLS = [1]\n",
    "FILE_PATH = 'data/pools/{p}/{h}.json'\n",
    "STEP = 5\n",
    "\n",
    "def get_pool_data(pool_id):\n",
    "    for height in range(UPGRADE_HEIGHT, HALT_HEIGHT):\n",
    "\n",
    "        if not os.path.exists(FILE_PATH.format(p=pool_id, h=height)):\n",
    "\n",
    "            headers={\n",
    "                'Accept': 'application/json',\n",
    "                'x-cosmos-block-height': str(height),\n",
    "            }\n",
    "\n",
    "            response = requests.get(API_ENDPOINT, headers=headers)\n",
    "\n",
    "            with open(FILE_PATH.format(p=pool_id, h=height), 'w') as f:\n",
    "                json.dump(response.json(), f)\n",
    "\n",
    "for pool_id in POOLS:\n",
    "    get_pool_data(pool_id)"
   ]
  },
  {
   "cell_type": "code",
   "execution_count": null,
   "metadata": {},
   "outputs": [],
   "source": []
  }
 ],
 "metadata": {
  "interpreter": {
   "hash": "5a14dde181ebf76a83913eef7bebee293d17f045847eb7f91ae700603d75455d"
  },
  "kernelspec": {
   "display_name": "Python 3.10.2 ('test': venv)",
   "language": "python",
   "name": "python3"
  },
  "language_info": {
   "codemirror_mode": {
    "name": "ipython",
    "version": 3
   },
   "file_extension": ".py",
   "mimetype": "text/x-python",
   "name": "python",
   "nbconvert_exporter": "python",
   "pygments_lexer": "ipython3",
   "version": "3.10.2"
  },
  "orig_nbformat": 4
 },
 "nbformat": 4,
 "nbformat_minor": 2
}
