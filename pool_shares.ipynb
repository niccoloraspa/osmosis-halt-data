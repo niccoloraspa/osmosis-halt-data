{
 "cells": [
  {
   "cell_type": "code",
   "execution_count": 12,
   "metadata": {},
   "outputs": [],
   "source": [
    "import requests\n",
    "import os\n",
    "import json\n",
    "import pandas as pd\n",
    "\n",
    "API_ENDPOINT=\"https://api.osmosis.interbloc.org/osmosis/gamm/v1beta1/pools/{p}\"\n",
    "\n",
    "UPGRADE_HEIGHT=4707300\n",
    "HALT_HEIGHT=4713064"
   ]
  },
  {
   "cell_type": "markdown",
   "metadata": {},
   "source": [
    "## Download all the data "
   ]
  },
  {
   "cell_type": "markdown",
   "metadata": {},
   "source": [
    "Pools affected by the bug taken from `https://docs.google.com/spreadsheets/d/1-0yiYnZhoeGvv1-u625KW7HV2y9KWGZKyoSH9zmBwIw/edit#gid=1119049066`"
   ]
  },
  {
   "cell_type": "code",
   "execution_count": null,
   "metadata": {},
   "outputs": [],
   "source": [
    "POOLS = [\n",
    "    1,\n",
    "    2,\n",
    "    3,\n",
    "    4,\n",
    "    5,\n",
    "    7,\n",
    "    9,\n",
    "    10,\n",
    "    15,\n",
    "    42,\n",
    "    463,\n",
    "    481,\n",
    "    482,\n",
    "    497,\n",
    "    498,\n",
    "    553,\n",
    "    557,\n",
    "    560,\n",
    "    561,\n",
    "    572,\n",
    "    573,\n",
    "    574,\n",
    "    577,\n",
    "    578,\n",
    "    580,\n",
    "    584,\n",
    "    585,\n",
    "    597,\n",
    "    600,\n",
    "    601,\n",
    "    602,\n",
    "    604,\n",
    "    605,\n",
    "    606,\n",
    "    608,\n",
    "    610,\n",
    "    611,\n",
    "    613,\n",
    "    617,\n",
    "    618,\n",
    "    619,\n",
    "    621,\n",
    "    625,\n",
    "    627,\n",
    "    629,\n",
    "    631,\n",
    "    633,\n",
    "    637,\n",
    "    638,\n",
    "    641,\n",
    "    643,\n",
    "    648,\n",
    "    649,\n",
    "    651,\n",
    "    653,\n",
    "    662,\n",
    "    669,\n",
    "    674,\n",
    "    678,\n",
    "    681,\n",
    "    690,\n",
    "    701,\n",
    "    704,\n",
    "    712,\n",
    "    716,\n",
    "    719,\n",
    "    720,\n",
    "    721,\n",
    "    722,\n",
    "    730\n",
    "]"
   ]
  },
  {
   "cell_type": "markdown",
   "metadata": {},
   "source": [
    "Call made:\n",
    "\n",
    "```\n",
    "curl \\\n",
    "    -X GET \\\n",
    "    -H \"Content-Type: application/json\" \\\n",
    "    -H \"x-cosmos-block-height: 4707300\" \\\n",
    "    \"https://api.osmosis.interbloc.org/osmosis/gamm/v1beta1/pools/1\"\n",
    "```"
   ]
  },
  {
   "cell_type": "code",
   "execution_count": 13,
   "metadata": {},
   "outputs": [
    {
     "name": "stdout",
     "output_type": "stream",
     "text": [
      "pool:  712 height:  4708275\r"
     ]
    }
   ],
   "source": [
    "POOL_FILE_PATH = 'data/pools/{p}/'\n",
    "FILE_PATH = 'data/pools/{p}/{h}.json'\n",
    "\n",
    "POOLS = [1, 678, 712]\n",
    "\n",
    "def get_pool_data(pool_id):\n",
    "\n",
    "    for height in range(UPGRADE_HEIGHT, HALT_HEIGHT):\n",
    "        print(\"pool:\", pool_id, \"height:\", height, end='\\r')\n",
    "\n",
    "        if not os.path.exists(FILE_PATH.format(p=pool_id, h=height)):\n",
    "\n",
    "            headers={\n",
    "                'Accept': 'application/json',\n",
    "                'x-cosmos-block-height': str(height),\n",
    "            }\n",
    "            response = requests.get(API_ENDPOINT.format(p=pool_id), headers=headers)\n",
    "\n",
    "            with open(FILE_PATH.format(p=pool_id, h=height), 'w') as f:\n",
    "                json.dump(response.json(), f)\n",
    "\n",
    "\n",
    "for pool in POOLS:\n",
    "    if not os.path.exists(POOL_FILE_PATH.format(p=pool)):\n",
    "        os.makedirs(POOL_FILE_PATH.format(p=pool))\n",
    "\n",
    "    get_pool_data(pool)\n",
    "\n",
    "    "
   ]
  },
  {
   "cell_type": "markdown",
   "metadata": {},
   "source": [
    "## Filter the Data"
   ]
  },
  {
   "cell_type": "markdown",
   "metadata": {},
   "source": [
    "#### Get the downloaded data"
   ]
  },
  {
   "cell_type": "code",
   "execution_count": null,
   "metadata": {},
   "outputs": [],
   "source": [
    "POOLS = [1]\n",
    "\n",
    "results = []\n",
    "for pool in POOLS:\n",
    "    for height in range(UPGRADE_HEIGHT, HALT_HEIGHT):\n",
    "\n",
    "        with open(FILE_PATH.format(h=height, p=pool)) as f:\n",
    "            data = json.load(f)\n",
    "        \n",
    "        data[\"pool\"][\"height\"] = height\n",
    "        results.append(data[\"pool\"])"
   ]
  },
  {
   "cell_type": "markdown",
   "metadata": {},
   "source": [
    "#### Transform the DataFrame"
   ]
  },
  {
   "cell_type": "code",
   "execution_count": null,
   "metadata": {},
   "outputs": [],
   "source": [
    "df = pd.json_normalize(results)\n",
    "\n",
    "df = df.join(pd.json_normalize(pd.json_normalize(df[\"poolAssets\"])[0]).add_prefix(\"token0_\"))\n",
    "df = df.join(pd.json_normalize(pd.json_normalize(df[\"poolAssets\"])[1]).add_prefix(\"token1_\"))\n",
    "df.drop(columns=[\"poolAssets\"], inplace=True)"
   ]
  },
  {
   "cell_type": "markdown",
   "metadata": {},
   "source": [
    "### Save the DataFrame"
   ]
  },
  {
   "cell_type": "code",
   "execution_count": null,
   "metadata": {},
   "outputs": [],
   "source": [
    "df.to_csv(\"csv/pools.csv\", index=None)"
   ]
  }
 ],
 "metadata": {
  "interpreter": {
   "hash": "5a14dde181ebf76a83913eef7bebee293d17f045847eb7f91ae700603d75455d"
  },
  "kernelspec": {
   "display_name": "Python 3.10.2 ('test': venv)",
   "language": "python",
   "name": "python3"
  },
  "language_info": {
   "codemirror_mode": {
    "name": "ipython",
    "version": 3
   },
   "file_extension": ".py",
   "mimetype": "text/x-python",
   "name": "python",
   "nbconvert_exporter": "python",
   "pygments_lexer": "ipython3",
   "version": "3.10.2"
  },
  "orig_nbformat": 4
 },
 "nbformat": 4,
 "nbformat_minor": 2
}
