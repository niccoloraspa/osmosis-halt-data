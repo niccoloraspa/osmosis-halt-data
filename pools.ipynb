{
 "cells": [
  {
   "cell_type": "code",
   "execution_count": 4,
   "metadata": {},
   "outputs": [
    {
     "ename": "SyntaxError",
     "evalue": "invalid syntax (1111415953.py, line 4)",
     "output_type": "error",
     "traceback": [
      "\u001b[0;36m  Input \u001b[0;32mIn [4]\u001b[0;36m\u001b[0m\n\u001b[0;31m    import pandas as pd|\u001b[0m\n\u001b[0m                       ^\u001b[0m\n\u001b[0;31mSyntaxError\u001b[0m\u001b[0;31m:\u001b[0m invalid syntax\n"
     ]
    }
   ],
   "source": [
    "import requests\n",
    "import os\n",
    "import json\n",
    "import pandas as pd\n",
    "import glob\n",
    "\n",
    "UPGRADE_HEIGHT=4707300\n",
    "HALT_HEIGHT=4713064\n",
    "\n"
   ]
  },
  {
   "cell_type": "markdown",
   "metadata": {},
   "source": [
    "## Parse pool data\n",
    "\n",
    "To downlod the data execute the script `data/pools/download.sh`"
   ]
  },
  {
   "cell_type": "code",
   "execution_count": 11,
   "metadata": {},
   "outputs": [
    {
     "name": "stdout",
     "output_type": "stream",
     "text": [
      "Processing  data/pools/geo/4712401.json\r"
     ]
    }
   ],
   "source": [
    "# Data downloaded by geo\n",
    "DATA_FOLDER=\"data/pools/geo/\"\n",
    "\n",
    "results = []\n",
    "pool_data_at_height_files = glob.glob(os.path.join(DATA_FOLDER, '*.json'))\n",
    "\n",
    "for file in pool_data_at_height_files:\n",
    "\n",
    "    print(\"Processing \", file, end='\\r')\n",
    "\n",
    "    with open(file) as f:\n",
    "        data = json.load(f)\n",
    "\n",
    "        # Get height from file path\n",
    "        height = file.replace(DATA_FOLDER, '').replace(\".json\", \"\")\n",
    "\n",
    "        # Create a row for each pool and add the height as a column\n",
    "        for pool_data in data.values():\n",
    "            pool_data[\"height\"] = height\n",
    "            results.append(pool_data)\n",
    "            "
   ]
  },
  {
   "cell_type": "markdown",
   "metadata": {},
   "source": [
    "### Transform the DataFrame"
   ]
  },
  {
   "cell_type": "code",
   "execution_count": null,
   "metadata": {},
   "outputs": [],
   "source": [
    "df = pd.json_normalize(results)\n",
    "\n",
    "df = df.join(pd.json_normalize(pd.json_normalize(df[\"poolAssets\"])[0]).add_prefix(\"token0_\"))\n",
    "df = df.join(pd.json_normalize(pd.json_normalize(df[\"poolAssets\"])[1]).add_prefix(\"token1_\"))\n",
    "df.drop(columns=[\"poolAssets\"], inplace=True)"
   ]
  },
  {
   "cell_type": "markdown",
   "metadata": {},
   "source": [
    "### Save the DataFrame"
   ]
  },
  {
   "cell_type": "code",
   "execution_count": null,
   "metadata": {},
   "outputs": [],
   "source": [
    "df.to_csv(\"csv/pools.csv\", index=None)"
   ]
  }
 ],
 "metadata": {
  "interpreter": {
   "hash": "5a14dde181ebf76a83913eef7bebee293d17f045847eb7f91ae700603d75455d"
  },
  "kernelspec": {
   "display_name": "Python 3.10.2 ('test': venv)",
   "language": "python",
   "name": "python3"
  },
  "language_info": {
   "codemirror_mode": {
    "name": "ipython",
    "version": 3
   },
   "file_extension": ".py",
   "mimetype": "text/x-python",
   "name": "python",
   "nbconvert_exporter": "python",
   "pygments_lexer": "ipython3",
   "version": "3.10.2"
  },
  "orig_nbformat": 4
 },
 "nbformat": 4,
 "nbformat_minor": 2
}
