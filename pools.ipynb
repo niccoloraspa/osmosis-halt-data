{
 "cells": [
  {
   "cell_type": "code",
   "execution_count": null,
   "metadata": {},
   "outputs": [],
   "source": [
    "import os\n",
    "import json\n",
    "import pandas as pd\n",
    "import glob\n",
    "\n",
    "UPGRADE_HEIGHT=4707300\n",
    "HALT_HEIGHT=4713064"
   ]
  },
  {
   "cell_type": "markdown",
   "metadata": {},
   "source": [
    "## Parse pool data by Geo\n",
    "\n",
    "To downlod the data execute the script `data/pools/download_geo_pool_data.sh`\n",
    "\n",
    "The data was parsed from the blockchain with the following code: https://github.com/george-aj/osmosis-nitrogen-extra-gamm-analysis/blob/main/shadow_pool_estimates/shadow_pool_model.py#L126-L150"
   ]
  },
  {
   "cell_type": "code",
   "execution_count": null,
   "metadata": {},
   "outputs": [],
   "source": [
    "# Data downloaded by geo\n",
    "DATA_FOLDER=\"data/pools/geo/\"\n",
    "results = []\n",
    "\n",
    "pool_data_at_height_files = glob.glob(os.path.join(DATA_FOLDER, '*.json'))\n",
    "\n",
    "for file in pool_data_at_height_files:\n",
    "\n",
    "    print(\"Processing \", file, end='\\r')\n",
    "\n",
    "    with open(file) as f:\n",
    "        data = json.load(f)\n",
    "\n",
    "        # Get height from file path\n",
    "        height = file.replace(DATA_FOLDER, '').replace(\".json\", \"\")\n",
    "\n",
    "        # Create a row for each pool and add the height as a column\n",
    "        for pool_data in data.values():\n",
    "            pool_data[\"height\"] = height\n",
    "            results.append(pool_data)"
   ]
  },
  {
   "cell_type": "code",
   "execution_count": null,
   "metadata": {},
   "outputs": [],
   "source": [
    "# Import data to dataframe\n",
    "df = pd.json_normalize(results)\n",
    "df.head()"
   ]
  },
  {
   "cell_type": "code",
   "execution_count": null,
   "metadata": {},
   "outputs": [],
   "source": [
    "# Expand `poolAssets`\n",
    "df = df.join(pd.json_normalize(pd.json_normalize(df[\"poolAssets\"])[0])).rename(columns = {'token.denom':'token0.denom', 'token.amount':'token0.amount', \"weight\": \"token0.weight\"})\n",
    "df = df.join(pd.json_normalize(pd.json_normalize(df[\"poolAssets\"])[1])).rename(columns = {'token.denom':'token1.denom', 'token.amount':'token1.amount', \"weight\": \"token1.weight\"})\n",
    "df.drop(columns=[\"poolAssets\"], inplace=True)\n",
    "\n",
    "df.head()"
   ]
  },
  {
   "cell_type": "code",
   "execution_count": null,
   "metadata": {},
   "outputs": [],
   "source": [
    "# Reorder columns\n",
    "df = df[[\n",
    " 'id', \n",
    " 'height',\n",
    " 'totalWeight',\n",
    " 'totalShares.denom', \n",
    " 'totalShares.amount',  \n",
    " 'token0.weight',\n",
    " 'token0.denom',\n",
    " 'token0.amount',\n",
    " 'token1.weight',\n",
    " 'token1.denom',\n",
    " 'token1.amount',\n",
    " 'address',\n",
    " '@type',\n",
    " 'futurePoolGovernor',\n",
    " 'poolParams.swapFee',\n",
    " 'poolParams.exitFee',\n",
    " ]]\n",
    "\n",
    "# Sort values\n",
    "df.sort_values(by=['id', 'height'], inplace=True)\n",
    "\n",
    "# Save to file\n",
    "df.to_csv(\"csv/pools/geo/all_pools.csv\", index=None)"
   ]
  },
  {
   "cell_type": "markdown",
   "metadata": {},
   "source": [
    "## Parse pool data by osmosis-data\n",
    "\n",
    "To downlod the data execute the script `data/pools/download_osmosis_pool_data.sh`"
   ]
  },
  {
   "cell_type": "code",
   "execution_count": null,
   "metadata": {},
   "outputs": [],
   "source": [
    "# Data downloaded by osmosis-data\n",
    "DATA_FOLDER=\"data/pools/osmosis/\"\n",
    "results = []\n",
    "\n",
    "pool_data_at_height_files = glob.glob(os.path.join(DATA_FOLDER, '*.json'))\n",
    "\n",
    "for file in pool_data_at_height_files:\n",
    "\n",
    "    print(\"Processing \", file, end='\\r')\n",
    "\n",
    "    with open(file) as f:\n",
    "        data = json.load(f)\n",
    "\n",
    "        # Get height from file path\n",
    "        height = file.replace(DATA_FOLDER, '').replace(\".json\", \"\")\n",
    "\n",
    "        # Create a row for each pool and add the height as a column\n",
    "        for pool_data in data:\n",
    "            pool_data[\"height\"] = height\n",
    "            results.append(pool_data)"
   ]
  },
  {
   "cell_type": "markdown",
   "metadata": {},
   "source": [
    "### Create a DataFrame with all the data"
   ]
  },
  {
   "cell_type": "code",
   "execution_count": null,
   "metadata": {},
   "outputs": [],
   "source": [
    "# Import to dataframe\n",
    "df = pd.json_normalize(results)\n",
    "df.head()"
   ]
  },
  {
   "cell_type": "code",
   "execution_count": null,
   "metadata": {},
   "outputs": [],
   "source": [
    "# Expand `poolAssets`\n",
    "df = df.join(pd.json_normalize(pd.json_normalize(df[\"poolAssets\"])[0])).rename(columns = {'token.denom':'token0.denom', 'token.amount':'token0.amount', \"weight\": \"token0.weight\"})\n",
    "df = df.join(pd.json_normalize(pd.json_normalize(df[\"poolAssets\"])[1])).rename(columns = {'token.denom':'token1.denom', 'token.amount':'token1.amount', \"weight\": \"token1.weight\"})\n",
    "df.drop(columns=[\"poolAssets\"], inplace=True)"
   ]
  },
  {
   "cell_type": "code",
   "execution_count": null,
   "metadata": {},
   "outputs": [],
   "source": [
    "# Reorder columns\n",
    "df = df[[\n",
    " 'id', \n",
    " 'height',\n",
    " 'totalWeight',\n",
    " 'totalShares.denom', \n",
    " 'totalShares.amount',  \n",
    " 'token0.weight',\n",
    " 'token0.denom',\n",
    " 'token0.amount',\n",
    " 'token1.weight',\n",
    " 'token1.denom',\n",
    " 'token1.amount',\n",
    " 'address',\n",
    " '@type',\n",
    " 'futurePoolGovernor',\n",
    " 'poolParams.swapFee',\n",
    " 'poolParams.exitFee',\n",
    " ]]\n",
    "\n",
    "# Sort values\n",
    "df.sort_values(by=['id', 'height'], inplace=True)\n",
    "\n",
    "# Save to file\n",
    "df.to_csv(\"csv/pools/osmosis/all_pools.csv\", index=None)"
   ]
  }
 ],
 "metadata": {
  "interpreter": {
   "hash": "5a14dde181ebf76a83913eef7bebee293d17f045847eb7f91ae700603d75455d"
  },
  "kernelspec": {
   "display_name": "Python 3.10.2 ('test': venv)",
   "language": "python",
   "name": "python3"
  },
  "language_info": {
   "codemirror_mode": {
    "name": "ipython",
    "version": 3
   },
   "file_extension": ".py",
   "mimetype": "text/x-python",
   "name": "python",
   "nbconvert_exporter": "python",
   "pygments_lexer": "ipython3",
   "version": "3.10.2"
  },
  "orig_nbformat": 4
 },
 "nbformat": 4,
 "nbformat_minor": 2
}
