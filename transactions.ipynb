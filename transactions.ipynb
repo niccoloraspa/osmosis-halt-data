{
 "cells": [
  {
   "cell_type": "code",
   "execution_count": 1,
   "metadata": {},
   "outputs": [],
   "source": [
    "import grequests\n",
    "import requests\n",
    "import os\n",
    "import json\n",
    "import pandas as pd\n",
    "\n",
    "API_ENDPOINT=\"https://api.osmosis.interbloc.org/cosmos/tx/v1beta1/txs?events=tx.height={}\"\n",
    "\n",
    "UPGRADE_HEIGHT=4707300\n",
    "HALT_HEIGHT=4713064\n",
    "\n",
    "MSG_EXIT_POOL=\"/osmosis.gamm.v1beta1.MsgExitPool\"\n",
    "MSG_JOIN_POOL=\"/osmosis.gamm.v1beta1.MsgJoinPool\""
   ]
  },
  {
   "cell_type": "markdown",
   "metadata": {},
   "source": [
    "### Download all the data \n",
    "\n",
    "Download all tx responses for every block in [`UPGRADE_HEIGHT`, `HALT_HEIGHT`] to `data/block_tx/`"
   ]
  },
  {
   "cell_type": "markdown",
   "metadata": {},
   "source": [
    "#### Downloaded data already avaialble [here](link)\n"
   ]
  },
  {
   "cell_type": "markdown",
   "metadata": {},
   "source": [
    "Download data in parallel"
   ]
  },
  {
   "cell_type": "code",
   "execution_count": 40,
   "metadata": {},
   "outputs": [],
   "source": [
    "FILE_PATH = 'data/block_tx/{}.json'\n",
    "STEP = 5\n",
    "\n",
    "for height in range(UPGRADE_HEIGHT, HALT_HEIGHT, STEP):\n",
    "\n",
    "    urls = [API_ENDPOINT.format(h) for h in range(height, height + STEP) if not os.path.exists(FILE_PATH.format(h)) and h <= HALT_HEIGHT]\n",
    "    rs = (grequests.get(url, headers={'Accept': 'application/json'}) for url in urls)\n",
    "    responses = grequests.map(rs, size = STEP)\n",
    "\n",
    "    for idx, response in enumerate(responses):\n",
    "\n",
    "        curr_height = response.request.url.replace(\"https://api.osmosis.interbloc.org/cosmos/tx/v1beta1/txs?events=tx.height=\", \"\")\n",
    "        with open(FILE_PATH.format(curr_height), 'w') as f:\n",
    "            json.dump(response.json()[\"tx_responses\"], f)\n"
   ]
  },
  {
   "cell_type": "markdown",
   "metadata": {},
   "source": [
    "Slow serialized version"
   ]
  },
  {
   "cell_type": "code",
   "execution_count": 9,
   "metadata": {},
   "outputs": [
    {
     "name": "stdout",
     "output_type": "stream",
     "text": [
      "4713064\r"
     ]
    }
   ],
   "source": [
    "FILE_PATH = 'data/block_tx/{}.json'\n",
    "\n",
    "for height in range(UPGRADE_HEIGHT, HALT_HEIGHT+1):\n",
    "    \n",
    "    print(height, end='\\r')\n",
    "    \n",
    "    if not os.path.exists(FILE_PATH.format(height)):\n",
    "        response = requests.get(API_ENDPOINT.format(height), headers={'Accept': 'application/json'})\n",
    "        with open(FILE_PATH.format(height), 'w') as f:\n",
    "                json.dump(response.json()[\"tx_responses\"], f)"
   ]
  },
  {
   "cell_type": "markdown",
   "metadata": {},
   "source": [
    "## Post Processing data"
   ]
  },
  {
   "cell_type": "markdown",
   "metadata": {},
   "source": [
    "### Import the downloaded data in pandas dataframe"
   ]
  },
  {
   "cell_type": "code",
   "execution_count": 27,
   "metadata": {},
   "outputs": [
    {
     "name": "stdout",
     "output_type": "stream",
     "text": [
      "processing 4713064\r"
     ]
    }
   ],
   "source": [
    "results = []\n",
    "\n",
    "def filter_txs_data(dict):\n",
    "    filtered_dict = {key: dict[key] for key in [\"height\", \"txhash\", \"code\", \"timestamp\", \"tx\"]}\n",
    "    return filtered_dict\n",
    "\n",
    "\n",
    "for height in range(UPGRADE_HEIGHT, HALT_HEIGHT+1):\n",
    "    \n",
    "    print(\"processing\", height, \"missing:\", HALT_HEIGHT - height, end='\\r')\n",
    "    \n",
    "    with open(FILE_PATH.format(height)) as f:\n",
    "        txs_data = json.load(f)\n",
    "\n",
    "        if txs_data:\n",
    "            txs = list(filter(filter_txs_data, txs_data)) \n",
    "            results += txs\n",
    "\n",
    "print(\"creating dataframe...\")\n",
    "\n",
    "raw_df = pd.DataFrame.from_records(results)\n",
    "raw_df.to_csv(\"csv/raw_txs.csv\")\n",
    "\n",
    "print(\"done.\")"
   ]
  },
  {
   "cell_type": "markdown",
   "metadata": {},
   "source": [
    "### Process the data"
   ]
  },
  {
   "cell_type": "code",
   "execution_count": null,
   "metadata": {},
   "outputs": [],
   "source": [
    "# Remove unsuccessful transactions\n",
    "df = df[df[\"code\"] == 0]"
   ]
  },
  {
   "cell_type": "code",
   "execution_count": null,
   "metadata": {},
   "outputs": [],
   "source": [
    "# Expand tx\n",
    "df = df.join(pd.json_normalize(df.tx)[[\"body.messages\"]]).drop(columns=[\"tx\"])\n",
    "df = df.explode(column=\"body.messages\")\n",
    "df.head()\n"
   ]
  },
  {
   "cell_type": "code",
   "execution_count": null,
   "metadata": {},
   "outputs": [],
   "source": [
    "df = df.join(pd.json_normalize(df[\"body.messages\"])[[\"@type\", \"poolId\",\"shareInAmount\",\"shareOutAmount\", \"sender\", \"tokenInMaxs\", \"tokenOutMins\"]])\n",
    "df = df.drop(columns=[\"body.messages\"])\n",
    "\n",
    "# Filter messages\n",
    "df = df[(df[\"@type\"] == MSG_EXIT_POOL) | (df[\"@type\"] == MSG_JOIN_POOL )]\n",
    "df.head()\n"
   ]
  },
  {
   "cell_type": "code",
   "execution_count": null,
   "metadata": {},
   "outputs": [],
   "source": [
    "# Merge shares into one column\n",
    "df[\"shares\"] = df[\"shareInAmount\"].combine_first(df[\"shareOutAmount\"])\n",
    "df.drop(columns=[\"shareInAmount\", \"shareOutAmount\"], inplace=True)\n",
    "\n",
    "# Merge tokens into one column\n",
    "df[\"tokens\"] = df[\"tokenInMaxs\"].combine_first(df[\"tokenOutMins\"])\n",
    "df.drop(columns=[\"tokenInMaxs\",\"tokenOutMins\"], inplace=True)"
   ]
  },
  {
   "cell_type": "code",
   "execution_count": null,
   "metadata": {},
   "outputs": [],
   "source": [
    "# Expand token information\n",
    "df.reset_index(inplace=True, drop=True)\n",
    "df = df.join(pd.json_normalize(pd.json_normalize(df[\"tokens\"])[0]).add_prefix(\"token0_\"))\n",
    "df = df.join(pd.json_normalize(pd.json_normalize(df[\"tokens\"])[1]).add_prefix(\"token1_\"))\n",
    "df.drop(columns=[\"tokens\"], inplace=True)\n",
    "display(df)"
   ]
  },
  {
   "cell_type": "markdown",
   "metadata": {},
   "source": [
    "## Calculate Excess GAMM"
   ]
  },
  {
   "cell_type": "code",
   "execution_count": null,
   "metadata": {},
   "outputs": [],
   "source": []
  },
  {
   "cell_type": "markdown",
   "metadata": {},
   "source": [
    "## Count of Join/Exit Transactions"
   ]
  },
  {
   "cell_type": "code",
   "execution_count": null,
   "metadata": {},
   "outputs": [],
   "source": [
    "df.groupby('@type').size().reset_index(name='number_of_txs')"
   ]
  },
  {
   "cell_type": "code",
   "execution_count": null,
   "metadata": {},
   "outputs": [],
   "source": [
    "(df.groupby(['@type', 'sender'])\n",
    "    .size()\n",
    "    .reset_index(name='number_of_txs')\n",
    "    .sort_values(by=['number_of_txs'], ascending=False))"
   ]
  }
 ],
 "metadata": {
  "interpreter": {
   "hash": "5a14dde181ebf76a83913eef7bebee293d17f045847eb7f91ae700603d75455d"
  },
  "kernelspec": {
   "display_name": "Python 3.10.2 ('test': venv)",
   "language": "python",
   "name": "python3"
  },
  "language_info": {
   "codemirror_mode": {
    "name": "ipython",
    "version": 3
   },
   "file_extension": ".py",
   "mimetype": "text/x-python",
   "name": "python",
   "nbconvert_exporter": "python",
   "pygments_lexer": "ipython3",
   "version": "3.10.2"
  },
  "orig_nbformat": 4
 },
 "nbformat": 4,
 "nbformat_minor": 2
}
